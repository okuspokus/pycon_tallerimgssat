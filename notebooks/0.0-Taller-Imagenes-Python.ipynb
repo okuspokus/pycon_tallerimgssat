{
  "nbformat": 4,
  "nbformat_minor": 0,
  "metadata": {
    "colab": {
      "name": "taller_imgspython.ipynb",
      "version": "0.3.2",
      "provenance": [],
      "include_colab_link": true
    },
    "kernelspec": {
      "display_name": "Python 3",
      "language": "python",
      "name": "python3"
    }
  },
  "cells": [
    {
      "cell_type": "markdown",
      "metadata": {
        "id": "view-in-github",
        "colab_type": "text"
      },
      "source": [
        "<a href=\"https://colab.research.google.com/github/pavelsjo/pycon_tallerimgssat/blob/master/taller_imgspython.ipynb\" target=\"_parent\"><img src=\"https://colab.research.google.com/assets/colab-badge.svg\" alt=\"Open In Colab\"/></a>"
      ]
    },
    {
      "metadata": {
        "id": "f2d-IckMP01z",
        "colab_type": "text"
      },
      "cell_type": "markdown",
      "source": [
        "# $$ \\text{Imágenes Satelitales} \\cap \\text{Python} $$\n",
        "\n",
        "## 0. Importamos (algunas) de las librerías que vamos a utilizar: "
      ]
    },
    {
      "metadata": {
        "id": "r7_0h1CmP011",
        "colab_type": "code",
        "colab": {}
      },
      "cell_type": "code",
      "source": [
        "%matplotlib notebook\n",
        "#%matplotlib nbagg \n",
        "# va a ser importante utilizat nbagg o notebook, en este caso inline no\n",
        "# ns servira porque querremos interactuar con los gráficos.\n",
        "import matplotlib.pyplot as plt\n",
        "import gdal\n",
        "import numpy as np\n",
        "from skimage import exposure\n",
        "import pandas as pd\n",
        "# import seaborn as sns\n",
        "\n",
        "\n",
        "\n",
        "\n",
        "def firmas_teo():\n",
        "    # Muchos de estos datos los pude obtener gracias a Maira Gayol, muchas gracias!\n",
        "    x = [1,2,3,4,5,6]\n",
        "    plt.plot(x,[0.03,0.05,0.04,0.4,0.14,0.07],color='g',label='vegetacion densa',marker='o')\n",
        "    plt.plot(x,[0.03,0.05,0.04,0.27,0.12,0.07],color='g',label='vegetacion no densa',marker='o')\n",
        "\n",
        "    plt.plot(x,[0.05,0.11,0.13,0.06,0.02,0.01],color='brown',label='agua turbia',marker='o')\n",
        "    plt.plot(x,[0.03,0.04,0.035,0.05,0.02,0.01],color='b',label='agua clara',marker='o')\n",
        "    plt.plot(x,[ 0.10, 0.13, 0.15, 0.26, 0.25, 0.21],color='gray',label='ciudad',marker='o')\n",
        "    #plt.plot(x,[4,3,2,5],color='b',label='vegetacion')\n",
        "    plt.ylim(0.0,0.5)\n",
        "    plt.legend()\n",
        "    plt.xticks(np.arange(1,7),('Blue','Green','Red','NIR','SWIR1','SWIR2'))\n",
        "    plt.xlabel('Bandas')\n",
        "    plt.ylabel('Reflectancia')\n",
        "\n",
        "\n",
        "def array2raster_1band(out_name,array,geo_trans,proj):\n",
        "    # https://pcjericks.github.io/py-gdalogr-cookbook/raster_layers.html\n",
        "    # http://blog.remotesensing.io/2013/03/using-gdal-with-python-basic-intro/\n",
        "\n",
        "    # First of all, gather some information from the original file\n",
        "    cols,rows = array.shape\n",
        "    trans       = geo_trans\n",
        "    proj        = proj\n",
        "    #nodatav     = data.GetNoDataValue()\n",
        "    outfile     = out_name\n",
        "\n",
        "    # Create the file, using the information from the original file\n",
        "    outdriver = gdal.GetDriverByName(\"GTiff\")\n",
        "    outdata   = outdriver.Create(str(outfile), rows, cols, 1, gdal.GDT_Float32)\n",
        "\n",
        "    # Georeference the image\n",
        "    outdata.SetGeoTransform(trans)\n",
        "\n",
        "    # Write projection information\n",
        "    outdata.SetProjection(proj)\n",
        "\n",
        "    band = outdata.GetRasterBand(1)\n",
        "    band.WriteArray(array)\n",
        "    band.FlushCache()\n",
        "    \n",
        "\n",
        "def array2raster(out_name,array,geo_trans,proj):\n",
        "    # First of all, gather some information from the original file\n",
        "    cols,rows,bands = array.shape\n",
        "\n",
        "\n",
        "\n",
        "    # Create the file, using the information from the original file\n",
        "    outdriver = gdal.GetDriverByName(\"GTiff\")\n",
        "    outdata   = outdriver.Create(str(outfile), rows, cols, bands, gdal.GDT_Float32)\n",
        "\n",
        "\n",
        "    # Georeference the image\n",
        "    outdata.SetGeoTransform(trans)\n",
        "\n",
        "    # Write projection information\n",
        "    outdata.SetProjection(proj)\n",
        "\n",
        "\n",
        "    for i in range(1,4):\n",
        "        band = outdata.GetRasterBand(i)\n",
        "        band.WriteArray(array[i-1,:,:])\n",
        "        band.FlushCache()\n"
      ],
      "execution_count": 0,
      "outputs": []
    },
    {
      "metadata": {
        "id": "HgflNU1cP014",
        "colab_type": "text"
      },
      "cell_type": "markdown",
      "source": [
        "## 1. Importamos las bandas, creamos un stack y clipeamos la imagen:\n",
        "\n",
        "### 1.1 Levantamos las bandas y hacemos el stack:"
      ]
    },
    {
      "metadata": {
        "id": "n7SwSKgiP015",
        "colab_type": "code",
        "colab": {}
      },
      "cell_type": "code",
      "source": [
        ""
      ],
      "execution_count": 0,
      "outputs": []
    },
    {
      "metadata": {
        "id": "yHAFY6IEP018",
        "colab_type": "code",
        "colab": {}
      },
      "cell_type": "code",
      "source": [
        "\n",
        "# This program builds a VRT (Virtual Dataset) that is a mosaic of the list of input GDAL datasets.\n",
        "#The list of input GDAL datasets can be specified at the end of the command line, or put in a text file\n",
        "#(one filename per line) for very long lists, or it can be a MapServer tileindex (see gdaltindex utility).\n",
        "#In the later case, all entries in the tile index will be added to the VRT.\n",
        "# With -separate, each files goes into a separate band in the VRT band. Otherwise, the files are\n",
        "#considered as tiles of a larger mosaic and the VRT file has as many bands as one of the input files.\n",
        "\n",
        "\n",
        "\n",
        "\n",
        "\n",
        "#The gdal_translate utility can be used to convert raster data between different formats, potentially performing some operations like subsettings, resampling, and rescaling pixels in the process."
      ],
      "execution_count": 0,
      "outputs": []
    },
    {
      "metadata": {
        "id": "gekkiM2YP02A",
        "colab_type": "code",
        "colab": {}
      },
      "cell_type": "code",
      "source": [
        "print(\"Formato: \" )\n",
        "print(\"En total tiene  bandas\" )\n",
        "print(\"En total tiene  filas\" )\n",
        "print(\"En total tiene  columnas\" )\n",
        "\n",
        "\n"
      ],
      "execution_count": 0,
      "outputs": []
    },
    {
      "metadata": {
        "id": "rBzj8wHqP02E",
        "colab_type": "code",
        "colab": {}
      },
      "cell_type": "code",
      "source": [
        "img_geotransform = l8_stack.GetGeoTransform()\n",
        "print(\"La esquina arriba a la izquierda, tiene coordenadas:\")\n",
        "print(\"La resolución de los pxeles es: \")\n",
        "\n",
        "\n"
      ],
      "execution_count": 0,
      "outputs": []
    },
    {
      "metadata": {
        "id": "CrjxB48oP02I",
        "colab_type": "text"
      },
      "cell_type": "markdown",
      "source": [
        "### 1.3 Pasamos a coordenadas geograficas:"
      ]
    },
    {
      "metadata": {
        "id": "KO3KxitBP02K",
        "colab_type": "code",
        "colab": {}
      },
      "cell_type": "code",
      "source": [
        "\n",
        "    \n"
      ],
      "execution_count": 0,
      "outputs": []
    },
    {
      "metadata": {
        "id": "VgtytZz_P02N",
        "colab_type": "text"
      },
      "cell_type": "markdown",
      "source": [
        "### 1.4 Realizamos un clip:\n"
      ]
    },
    {
      "metadata": {
        "id": "j5TsPxM4P02P",
        "colab_type": "code",
        "colab": {}
      },
      "cell_type": "code",
      "source": [
        "#bajo Delta:\n",
        "xmin=-58.6\n",
        "xmax=-58.4\n",
        "ymin=-34.5\n",
        "ymax=-34.29\n",
        "\n",
        "\n",
        "\n"
      ],
      "execution_count": 0,
      "outputs": []
    },
    {
      "metadata": {
        "id": "LPf5tR7KP02T",
        "colab_type": "text"
      },
      "cell_type": "markdown",
      "source": [
        "### Multiplicamos por 0.0001"
      ]
    },
    {
      "metadata": {
        "id": "DHtRj42bP02W",
        "colab_type": "code",
        "colab": {}
      },
      "cell_type": "code",
      "source": [
        "\n"
      ],
      "execution_count": 0,
      "outputs": []
    },
    {
      "metadata": {
        "id": "3hQ-9RPTP02c",
        "colab_type": "text"
      },
      "cell_type": "markdown",
      "source": [
        "### 1.5 Obervamos el clip en RGB:"
      ]
    },
    {
      "metadata": {
        "id": "4Yf35m3kP02e",
        "colab_type": "code",
        "colab": {}
      },
      "cell_type": "code",
      "source": [
        "\n",
        "#Stack arrays in sequence depth wise (along third axis).\n",
        "\n"
      ],
      "execution_count": 0,
      "outputs": []
    },
    {
      "metadata": {
        "id": "Xzz0iXg6P02h",
        "colab_type": "text"
      },
      "cell_type": "markdown",
      "source": [
        "## 2. Extracción de polígonos con roipoly\n",
        "\n",
        "#### Creacion de poligonos\n",
        "\n",
        "Para esto utlizaremos la clase \"roipoly\", veamos como crear un poligono:"
      ]
    },
    {
      "metadata": {
        "id": "8gNTfEouP02i",
        "colab_type": "code",
        "colab": {}
      },
      "cell_type": "code",
      "source": [
        "from roipoly import roipoly"
      ],
      "execution_count": 0,
      "outputs": []
    },
    {
      "metadata": {
        "id": "tdKNNiR8P02l",
        "colab_type": "text"
      },
      "cell_type": "markdown",
      "source": [
        "\n",
        "#### Obtención de máscaras:\n",
        "Podemos hallar la mascara generada por el polígono:\n",
        "(¿Qué es una máscara?)\n"
      ]
    },
    {
      "metadata": {
        "id": "986Mle2vP02m",
        "colab_type": "code",
        "colab": {}
      },
      "cell_type": "code",
      "source": [
        ""
      ],
      "execution_count": 0,
      "outputs": []
    },
    {
      "metadata": {
        "id": "UuYlwcD1P02o",
        "colab_type": "text"
      },
      "cell_type": "markdown",
      "source": [
        "##### Ahora, utilizando la máscara, obtener los valores de los pixeles que pertenecen al polígono:"
      ]
    },
    {
      "metadata": {
        "id": "l2kd6R7gP02p",
        "colab_type": "code",
        "colab": {}
      },
      "cell_type": "code",
      "source": [
        ""
      ],
      "execution_count": 0,
      "outputs": []
    },
    {
      "metadata": {
        "id": "v-YV2CcsP02s",
        "colab_type": "text"
      },
      "cell_type": "markdown",
      "source": [
        "##### Cómo podemos hacer para observar algun polígono ya marcado y crear uno nuevo?\n",
        "\n",
        "Ahora mostramos el polígono marcado y creamos uno nuevo:"
      ]
    },
    {
      "metadata": {
        "id": "rqekYNHWP02t",
        "colab_type": "code",
        "colab": {}
      },
      "cell_type": "code",
      "source": [
        ""
      ],
      "execution_count": 0,
      "outputs": []
    },
    {
      "metadata": {
        "id": "mbXpiydyP02v",
        "colab_type": "text"
      },
      "cell_type": "markdown",
      "source": [
        "#### Misión:\n",
        "    1) En la imagen se pueden observar distintas regiones homogeneas. Marcar 3 polígonos distintos en la imagen rgb, cada uno de ellos correspondiente a una zona homogenea distinta. Llamar a los polígonos: pol1, pol2 y pol3\n",
        "    2) Luego, extraer los valores (en todas las bandas) de los pixeles asociados a cada polígono. Llamar a cada conjunto de datos: valores_pol1, valores_pol2 y valores_pol3."
      ]
    },
    {
      "metadata": {
        "id": "KBzUVIntP02w",
        "colab_type": "code",
        "colab": {}
      },
      "cell_type": "code",
      "source": [
        ""
      ],
      "execution_count": 0,
      "outputs": []
    },
    {
      "metadata": {
        "id": "dF7v9yJpP02z",
        "colab_type": "code",
        "colab": {}
      },
      "cell_type": "code",
      "source": [
        ""
      ],
      "execution_count": 0,
      "outputs": []
    },
    {
      "metadata": {
        "id": "VND-5rVJP022",
        "colab_type": "code",
        "colab": {}
      },
      "cell_type": "code",
      "source": [
        ""
      ],
      "execution_count": 0,
      "outputs": []
    },
    {
      "metadata": {
        "id": "OEzUgL-zP028",
        "colab_type": "text"
      },
      "cell_type": "markdown",
      "source": [
        "#### 2.1 Comparando las firmas espectrales, asociamos a cada polígono con un tipo de cobertura\n",
        "\n",
        "Graficar las firmas espectrales asociadas a cada polígono"
      ]
    },
    {
      "metadata": {
        "id": "i8BZbOIsP029",
        "colab_type": "code",
        "colab": {}
      },
      "cell_type": "code",
      "source": [
        ""
      ],
      "execution_count": 0,
      "outputs": []
    },
    {
      "metadata": {
        "id": "ia0aIzEQP03B",
        "colab_type": "text"
      },
      "cell_type": "markdown",
      "source": [
        "## Concluir cada polígono a que cobertura pertenece, cambiar los nombres:"
      ]
    },
    {
      "metadata": {
        "id": "WZ62AFqBP03C",
        "colab_type": "code",
        "colab": {}
      },
      "cell_type": "code",
      "source": [
        ""
      ],
      "execution_count": 0,
      "outputs": []
    },
    {
      "metadata": {
        "id": "JgVAbmZBP03H",
        "colab_type": "text"
      },
      "cell_type": "markdown",
      "source": [
        "## 3. Crear un mapa de coberturas\n",
        "\n",
        "### ¿Cómo podemos automatizar la clasificación en vez de ir analizando cada pixel por separado?"
      ]
    },
    {
      "metadata": {
        "id": "u_fqkpJNP03I",
        "colab_type": "code",
        "colab": {}
      },
      "cell_type": "code",
      "source": [
        "from sklearn.neighbors import KNeighborsClassifier as KNN\n",
        "from sklearn.model_selection import train_test_split\n",
        "\n"
      ],
      "execution_count": 0,
      "outputs": []
    },
    {
      "metadata": {
        "id": "ztAhW5RWP03M",
        "colab_type": "code",
        "colab": {}
      },
      "cell_type": "code",
      "source": [
        "import seaborn as sns\n",
        "\n",
        "cm = confusion_matrix(y_test, y_pred)\n",
        "plt.clf()\n",
        "plt.imshow(cm,interpolation='nearest',cmap='Pastel1')#cmap='PiYG')\n",
        "for i in range(3):\n",
        "    for j in range(3):\n",
        "        plt.text(i,j,str(cm[i][j]))\n",
        "plt.show()\n",
        "#sns.heatmap(confusion_matrix(y_test, y_pred),annot=True,fmt=\"d\")\n",
        "#classNames = ['agua','vegetacion','ciudad']\n",
        "#tick_marks = np.arange(len(classNames))\n",
        "#plt.xticks(tick_marks, classNames)\n",
        "#plt.yticks(tick_marks, classNames)"
      ],
      "execution_count": 0,
      "outputs": []
    }
  ]
}